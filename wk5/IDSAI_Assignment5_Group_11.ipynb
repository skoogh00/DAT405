{
 "cells": [
  {
   "attachments": {},
   "cell_type": "markdown",
   "metadata": {
    "id": "R3D82waLqItO"
   },
   "source": [
    "# DAT405/DIT407 Introduction to Data Science and AI \n",
    "## 2022-2023, Reading Period 4\n",
    "## Assignment 5: Reinforcement learning and classification\n",
    "\n",
    "Hints:\n",
    "You can execute certain linux shell commands by prefixing the command with `!`. You can insert Markdown cells and code cells. The first you can use for documenting and explaining your results the second you can use writing code snippets that execute the tasks required.  \n",
    "\n",
    "This assignment is about **sequential decision making** under uncertainty (Reinforcement learning). In a sequential decision process, the process jumps between different states (the environment), and in each state the decision maker, or agent, chooses among a set of actions. Given the state and the chosen action, the process jumps to a new state. At each jump the decision maker receives a reward, and the objective is to find a sequence of decisions (or an optimal policy) that maximizes the accumulated rewards.\n",
    "\n",
    "We will use **Markov decision processes** (MDPs) to model the environment, and below is a primer on the relevant background theory. \n"
   ]
  },
  {
   "attachments": {},
   "cell_type": "markdown",
   "metadata": {
    "id": "8jEcC9NKqItQ"
   },
   "source": [
    "\n",
    "* To make things concrete, we will first focus on decision making under **no** uncertainity (question 1 and 2), i.e, given we have a world model, we can calculate the exact and optimal actions to take in it. We will first introduce **Markov Decision Process (MDP)** as the world model. Then we give one algorithm (out of many) to solve it.\n",
    "\n",
    "* (Optional) Next we will work through one type of reinforcement learning algorithm called Q-learning (question 3). Q-learning is an algorithm for making decisions under uncertainity, where uncertainity is over the possible world model (here MDP). It will find the optimal policy for the **unknown** MDP, assuming we do infinite exploration.\n",
    "\n",
    "* Finally, in question 4 you will be asked to explain differences between reinforcement learning and supervised learning and in question 5 write about decision trees and random forests."
   ]
  },
  {
   "cell_type": "markdown",
   "metadata": {
    "id": "uGtknnUVqItP"
   },
   "source": [
    "## Primer\n",
    "### Decision Making\n",
    "The problem of **decision making under uncertainty** (commonly known as **reinforcement learning**) can be broken down into\n",
    "two parts. First, how do we learn about the world? This involves both the\n",
    "problem of modeling our initial uncertainty about the world, and that of drawing conclusions from evidence and our initial belief. Secondly, given what we\n",
    "currently know about the world, how should we decide what to do, taking into\n",
    "account future events and observations that may change our conclusions?\n",
    "Typically, this will involve creating long-term plans covering possible future\n",
    "eventualities. That is, when planning under uncertainty, we also need to take\n",
    "into account what possible future knowledge could be generated when implementing our plans. Intuitively, executing plans which involve trying out new\n",
    "things should give more information, but it is hard to tell whether this information will be beneficial. The choice between doing something which is already\n",
    "known to produce good results and experiment with something new is known\n",
    "as the **exploration-exploitation dilemma**.\n",
    "\n",
    "### The exploration-exploitation trade-off\n",
    "\n",
    "Consider the problem of selecting a restaurant to go to during a vacation. Lets say the\n",
    "best restaurant you have found so far was **Les Epinards**. The food there is\n",
    "usually to your taste and satisfactory. However, a well-known recommendations\n",
    "website suggests that **King’s Arm** is really good! It is tempting to try it out. But\n",
    "there is a risk involved. It may turn out to be much worse than **Les Epinards**,\n",
    "in which case you will regret going there. On the other hand, it could also be\n",
    "much better. What should you do?\n",
    "It all depends on how much information you have about either restaurant,\n",
    "and how many more days you’ll stay in town. If this is your last day, then it’s\n",
    "probably a better idea to go to **Les Epinards**, unless you are expecting **King’s\n",
    "Arm** to be significantly better. However, if you are going to stay there longer,\n",
    "trying out **King’s Arm** is a good bet. If you are lucky, you will be getting much\n",
    "better food for the remaining time, while otherwise you will have missed only\n",
    "one good meal out of many, making the potential risk quite small."
   ]
  },
  {
   "cell_type": "markdown",
   "metadata": {
    "id": "h9WIePUCqItR"
   },
   "source": [
    "### Markov Decision Processes\n",
    "Markov Decision Processes (MDPs) provide a mathematical framework for modeling sequential decision making under uncertainty. An *agent* moves between *states* in a *state space* choosing *actions* that affects the transition probabilities between states, and the subsequent *rewards* recieved after a jump. This is then repeated a finite or infinite number of epochs. The objective, or the *solution* of the MDP, is to optimize the accumulated rewards of the process.\n",
    "\n",
    "Thus, an MDP consists of five parts: \n",
    "\n",
    "* Decision epochs: $t={1,2,...,T}$, where $T\\leq \\infty$\n",
    "* State space: $S=\\{s_1,s_2,...,s_N\\}$ of the underlying environment\n",
    "* Action space $A=\\{a_1,a_2,...,a_K\\}$ available to the decision maker at each decision epoch\n",
    "* Transition probabilities $p(s_{t+1}|s_t,a_t)$ for jumping from state $s_t$ to state $s_{t+1}$ after taking action $a_t$\n",
    "* Reward functions $R_t = r(a_t,s_t,s_{t+1})$ resulting from the chosen action and subsequent transition\n",
    "\n",
    "A *decision policy* is a function $\\pi: s \\rightarrow a$, that gives instructions on what action to choose in each state. A policy can either be *deterministic*, meaning that the action is given for each state, or *randomized* meaning that there is a probability distribution over the set of possible actions for each state. Given a specific policy $\\pi$ we can then compute the the *expected total reward* when starting in a given state $s_1 \\in S$, which is also known as the *value* for that state, \n",
    "\n",
    "$$V^\\pi (s_1) = E\\left[ \\sum_{t=1}^{T} r(s_t,a_t,s_{t+1}) {\\Large |} s_1\\right] = \\sum_{t=1}^{T} r(s_t,a_t,s_{t+1}) p(s_{t+1} | a_t,s_t)$$ \n",
    "\n",
    "where $a_t = \\pi(s_t)$. To ensure convergence and to control how much credit to give to future rewards, it is common to introduce a *discount factor* $\\gamma \\in [0,1]$. For instance, if we think all future rewards should count equally, we would use $\\gamma = 1$, while if we value near-future rewards higher than more distant rewards, we would use $\\gamma < 1$. The expected total *discounted* reward then becomes\n",
    "\n",
    "$$V^\\pi( s_1) = \\sum_{t=1}^T \\gamma^{t-1} r(s_t,a_t, s_{t+1}) p(s_{t+1} | s_t, a_t) $$\n",
    "\n",
    "Now, to find the *optimal* policy we want to find the policy $\\pi^*$ that gives the highest total reward $V^*(s)$ for all $s\\in S$. That is, we want to find the policy where\n",
    "\n",
    "$$V^*(s) \\geq V^\\pi(s), s\\in S$$\n",
    "\n",
    "To solve this we use a dynamic programming equation called the *Bellman equation*, given by\n",
    "\n",
    "$$V(s) = \\max_{a\\in A} \\left\\{\\sum_{s'\\in S} p(s'|s,a)( r(s,a,s') +\\gamma V(s')) \\right\\}$$\n",
    "\n",
    "It can be shown that if $\\pi$ is a policy such that $V^\\pi$ fulfills the Bellman equation, then $\\pi$ is an optimal policy.\n",
    "\n",
    "A real world example would be an inventory control system. The states could be the amount of items we have in stock, and the actions would be the amount of items to order at the end of each month. The discrete time would be each month and the reward would be the profit. \n"
   ]
  },
  {
   "cell_type": "markdown",
   "metadata": {
    "id": "KiO_zpY7qItS"
   },
   "source": [
    "## Question 1"
   ]
  },
  {
   "attachments": {},
   "cell_type": "markdown",
   "metadata": {
    "id": "XUyGq4olqItS"
   },
   "source": [
    "The first question covers a deterministic MPD, where the action is directly given by the state, described as follows:\n",
    "\n",
    "* The agent starts in state **S** (see table below)\n",
    "* The actions possible are **N** (north), **S** (south), **E** (east), and **W** west. \n",
    "* The transition probabilities in each box are deterministic (for example P(s'|s,N)=1 if s' north of s). Note, however, that you cannot move outside the grid, thus all actions are not available in every box.\n",
    "* When reaching **F**, the game ends (absorbing state).\n",
    "* The numbers in the boxes represent the rewards you receive when moving into that box. \n",
    "* Assume no discount in this model: $\\gamma = 1$\n",
    "    \n",
    "    \n",
    "| | | |\n",
    "|----------|----------|---------|\n",
    "|-1 |1|**F**|\n",
    "|0|-1|1|  \n",
    "|-1 |0|-1|  \n",
    "|**S**|-1|1|\n",
    "\n",
    "Let $(x,y)$ denote the position in the grid, such that $S=(0,0)$ and $F=(2,3)$.\n"
   ]
  },
  {
   "attachments": {},
   "cell_type": "markdown",
   "metadata": {},
   "source": [
    "**1a)** What is the optimal path of the MDP above? Is it unique? Submit the path as a single string of directions. E.g. NESW will make a circle."
   ]
  },
  {
   "attachments": {},
   "cell_type": "markdown",
   "metadata": {},
   "source": [
    "Answer 1a:\n",
    "\n",
    "The optimal path from \"S\" to \"F\" is \"EENNN\" which results in a total reward of 0. There are alternative paths that have the same total reward, such as \"EENNWENE\", hence the solution is not unique. However this path is longer."
   ]
  },
  {
   "attachments": {},
   "cell_type": "markdown",
   "metadata": {},
   "source": [
    "**1b)** What is the optimal policy (i.e. the optimal action in each state)? It is helpful if you draw the arrows/letters in the grid."
   ]
  },
  {
   "attachments": {},
   "cell_type": "markdown",
   "metadata": {},
   "source": [
    "Answer 1b:\n",
    "\n",
    "When selecting a policy, we aim to find a $\\pi$ that maximizes the expected cumulative reward, as represented by the value function $V$. The optimal policy for each state is given in the Table below:\n",
    "\n",
    "State |Optimal Policy ($\\pi^*$)|Reward ($V$)\n",
    "------|----------------------|------\n",
    "(0,0) |E or N                |-1\n",
    "(1,0) |N or E                |0\n",
    "(2,0) |N, E or S             |-1\n",
    "(3,0) |E                     |1\n",
    "(0,1) |E                     |1\n",
    "(0,2) |N or W                |-1\n",
    "(1,1) |N, E, W or S          |-1\n",
    "(1,2) |N or S                |1\n",
    "(2,1) |E or N                |1\n",
    "(2,2) |N                     |Finish\n",
    "(3,1) |E                     |Finish\n",
    "(3,2) |Finish state          |-"
   ]
  },
  {
   "attachments": {},
   "cell_type": "markdown",
   "metadata": {},
   "source": [
    "**1c)** What is expected total reward for the policy in 1a)?"
   ]
  },
  {
   "attachments": {},
   "cell_type": "markdown",
   "metadata": {},
   "source": [
    "Answer 1c:\n",
    "\n",
    "The expected total reward is 0."
   ]
  },
  {
   "cell_type": "markdown",
   "metadata": {
    "id": "sNkIk-k7qItT"
   },
   "source": [
    "## Value Iteration"
   ]
  },
  {
   "cell_type": "markdown",
   "metadata": {
    "id": "NJTFDikEqItT"
   },
   "source": [
    "For larger problems we need to utilize algorithms to determine the optimal policy $\\pi^*$. *Value iteration* is one such algorithm that iteratively computes the value for each state. Recall that for a policy to be optimal, it must satisfy the Bellman equation above, meaning that plugging in a given candidate $V^*$ in the right-hand side (RHS) of the Bellman equation should result in the same $V^*$ on the left-hand side (LHS). This property will form the basis of our algorithm. Essentially, it can be shown that repeated application of the RHS to any intial value function $V^0(s)$ will eventually lead to the value $V$ which statifies the Bellman equation. Hence repeated application of the Bellman equation will also lead to the optimal value function. We can then extract the optimal policy by simply noting what actions that satisfy the equation.    "
   ]
  },
  {
   "attachments": {},
   "cell_type": "markdown",
   "metadata": {
    "id": "3ZdhW0AZDoZv"
   },
   "source": [
    "The process of repeated application of the Bellman equation is what we here call the _value iteration_ algorithm. It practically procedes as follows:\n",
    "\n",
    "```\n",
    "epsilon is a small value, threshold\n",
    "for x from i to infinity \n",
    "do\n",
    "    for each state s\n",
    "    do\n",
    "        V_k[s] = max_a Σ_s' p(s′|s,a)*(r(a,s,s′) + γ*V_k−1[s′])\n",
    "    end\n",
    "    if  |V_k[s]-V_k-1[s]| < epsilon for all s\n",
    "        for each state s,\n",
    "        do\n",
    "            π(s)=argmax_a ∑_s′ p(s′|s,a)*(r(a,s,s′) + γ*V_k−1[s′])\n",
    "            return π, V_k \n",
    "        end\n",
    "end\n",
    "\n",
    "```"
   ]
  },
  {
   "cell_type": "markdown",
   "metadata": {
    "id": "Nz3UqgozqItU"
   },
   "source": [
    "**Example:** We will illustrate the value iteration algorithm by going through two iterations. Below is a 3x3 grid with the rewards given in each state. Assume now that given a certain state $s$ and action $a$, there is a probability 0.8 that that action will be performed and a probability 0.2 that no action is taken. For instance, if we take action **E** in state $(x,y)$ we will go to $(x+1,y)$ 80 percent of the time (given that that action is available in that state), and remain still 20 percent of the time. We will use have a discount factor $\\gamma = 0.9$. Let the initial value be $V^0(s)=0$ for all states $s\\in S$. \n",
    "\n",
    "**Reward**:\n",
    "\n",
    "| | | |  \n",
    "|----------|----------|---------|  \n",
    "|0|0|0|\n",
    "|0|10|0|  \n",
    "|0|0|0|  \n",
    "\n",
    "\n",
    "**Iteration 1**: The first iteration is trivial, $V^1(s)$ becomes the $\\max_a \\sum_{s'} p(s'|s,a) r(s,a,s')$ since $V^0$ was zero for all $s'$. The updated values for each state become\n",
    "\n",
    "| | | |  \n",
    "|----------|----------|---------|  \n",
    "|0|8|0|\n",
    "|8|2|8|  \n",
    "|0|8|0|  \n",
    "  \n",
    "**Iteration 2**:  \n",
    "  \n",
    "Staring with cell (0,0) (lower left corner): We find the expected value of each move:  \n",
    "Action **S**: 0  \n",
    "Action **E**: 0.8( 0 + 0.9 \\* 8) + 0.2(0 + 0.9 \\* 0) = 5.76  \n",
    "Action **N**: 0.8( 0 + 0.9 \\* 8) + 0.2(0 + 0.9 \\* 0) = 5.76  \n",
    "Action **W**: 0\n",
    "\n",
    "Hence any action between **E** and **N** would be best at this stage.\n",
    "\n",
    "Similarly for cell (1,0):\n",
    "\n",
    "Action **N**: 0.8( 10 + 0.9 \\* 2) + 0.2(0 + 0.9 \\* 8) = 10.88 (Action **N** is the maximizing action)  \n",
    "\n",
    "Similar calculations for remaining cells give us:\n",
    "\n",
    "| | | |  \n",
    "|----------|----------|---------|  \n",
    "|5.76|10.88|5.76|\n",
    "|10.88|8.12|10.88|  \n",
    "|5.76|10.88|5.76|  \n"
   ]
  },
  {
   "attachments": {},
   "cell_type": "markdown",
   "metadata": {
    "id": "S3vIdFpuqItU"
   },
   "source": [
    "## Question 2"
   ]
  },
  {
   "attachments": {},
   "cell_type": "markdown",
   "metadata": {},
   "source": [
    "**2a)** Code the value iteration algorithm just described here, and show the converging optimal value function and the optimal policy for the above 3x3 grid. Make sure to consider that there may be several equally good actions for a state when presenting the optimal policy."
   ]
  },
  {
   "cell_type": "code",
   "execution_count": 35,
   "metadata": {},
   "outputs": [
    {
     "name": "stdout",
     "output_type": "stream",
     "text": [
      "Converging optimal values: \n",
      " [[45.61281773 51.94794601 45.61281773]\n",
      " [51.94794601 48.05184212 51.94794601]\n",
      " [45.61281773 51.94794601 45.61281773]]\n",
      "\n",
      "Optimal policy: \n",
      " [['ES' 'S' 'WS']\n",
      " ['E' 'NWES' 'W']\n",
      " ['NE' 'N' 'NW']]\n"
     ]
    }
   ],
   "source": [
    "# Answer 2a\n",
    "import numpy as np\n",
    "\n",
    "# Parameters\n",
    "gamma = 0.9\n",
    "prob = 0.8\n",
    "epsilon = 0.0001\n",
    "\n",
    "# Initiate reward, state, next state and policy\n",
    "reward = np.array([[0,0,0],\n",
    "                 [0,10,0],\n",
    "                 [0,0,0]], dtype=float)\n",
    "\n",
    "state = np.array([[0,0,0],\n",
    "                 [0,0,0],\n",
    "                 [0,0,0]], dtype=float)\n",
    "\n",
    "next_state = np.array([[0,0,0],\n",
    "                 [0,0,0],\n",
    "                 [0,0,0]], dtype=float)\n",
    "\n",
    "policy = np.zeros(state.shape, dtype='object')\n",
    "\n",
    "num_rows, num_col = state.shape\n",
    "\n",
    "# Method that calculates the value using Bellman's equation\n",
    "def calc_reward(current_reward, next_reward, current_state, next_state, gamma_value:float, probability:float):\n",
    "    V = probability*(next_reward+gamma_value*next_state)+(1-probability)*(current_reward+gamma_value*current_state)\n",
    "    return V\n",
    "\n",
    "\n",
    "while True:\n",
    "    # Loop over all elements in matrix\n",
    "    for i in range(num_rows):\n",
    "\n",
    "        for j in range(num_col):\n",
    "            # Store temporary values and possible actions for each iteration\n",
    "            temp_values = []\n",
    "            action_list = []\n",
    "            optimal_action = []\n",
    "\n",
    "            # Action = N\n",
    "            if i != 0:\n",
    "                temp_values.append(calc_reward(reward[i,j], reward[i-1,j], state[i,j], state[i-1,j], gamma, prob))\n",
    "                action_list.append('N')\n",
    "\n",
    "            # Action = W\n",
    "            if j != 0:\n",
    "                temp_values.append(calc_reward(reward[i,j], reward[i,j-1], state[i,j], state[i,j-1], gamma, prob))\n",
    "                action_list.append('W')\n",
    "\n",
    "            # Action = E\n",
    "            if j != (num_col - 1):\n",
    "                temp_values.append(calc_reward(reward[i,j], reward[i,j+1], state[i,j], state[i,j+1], gamma, prob))\n",
    "                action_list.append('E')\n",
    "\n",
    "            # Action = S\n",
    "            if i != (num_rows - 1):\n",
    "                temp_values.append(calc_reward(reward[i,j], reward[i+1,j], state[i,j], state[i+1,j], gamma, prob))\n",
    "                action_list.append('S')\n",
    "\n",
    "            # Max value and best policy for each iteration are stored\n",
    "            next_state[i,j] = max(temp_values)\n",
    "            max_indices = [index for index, item in enumerate(temp_values) if item == max(temp_values)]\n",
    "            for index in max_indices:\n",
    "                optimal_action.append(action_list[index])\n",
    "            optimal_action = ''.join(optimal_action)\n",
    "            # Assign optimal policy (action) to policy matrix\n",
    "            policy[i,j] = optimal_action\n",
    "\n",
    "\n",
    "    diff = np.abs(state - next_state).sum()\n",
    "    \n",
    "    # Loop breaks when threshold is met\n",
    "    if diff < epsilon:\n",
    "        break\n",
    "    \n",
    "    # If threshold is not met update state matrix\n",
    "    state = np.copy(next_state)\n",
    "    \n",
    "\n",
    "print(f'Converging optimal values: \\n {state}\\n')\n",
    "print(f'Optimal policy: \\n {policy}')\n",
    "\n",
    "\n"
   ]
  },
  {
   "attachments": {},
   "cell_type": "markdown",
   "metadata": {},
   "source": [
    "**2b)** Explain why the result of 2a) does not depend on the initial value $V_0$."
   ]
  },
  {
   "attachments": {},
   "cell_type": "markdown",
   "metadata": {},
   "source": [
    "Answer 2b: \n",
    "\n",
    "The rewards values decrease gradually at each iteration because of the gamma factor, $\\gamma$. Independent of the initial value $V_0$, the optimal policy will ultimately converge to the same value. A larger $V_0$ value results in the algorithm requiring more iterations to converge."
   ]
  },
  {
   "attachments": {},
   "cell_type": "markdown",
   "metadata": {},
   "source": [
    "**2c)** Describe your interpretation of the discount factor $\\gamma$. What would happen in the two extreme cases $\\gamma = 0$ and $\\gamma = 1$? Given some MDP, what would be important things to consider when deciding on which value of $\\gamma$ to use?"
   ]
  },
  {
   "attachments": {},
   "cell_type": "markdown",
   "metadata": {},
   "source": [
    "Answer 2c:\n",
    "\n",
    "The discount factor $\\gamma$ determines the relative importance of immediate and future rewards. It affects how much the agent prioritizes long-term rewards over short-term rewards.\n",
    "\n",
    "A discount factor of 0 means that the agent only cares about immediate rewards and ignores all future rewards. A discount factor of 1 means that the agent values future rewards equally to immediate rewards.\n",
    "\n",
    "The choice of $\\gamma$ can also affect the speed of convergence and the stability of the algorithm. A higher $\\gamma$ value can make the algorithm slower to converge but can also make it more stable, while a lower $\\gamma$ value can make the algorithm faster to converge but less stable."
   ]
  },
  {
   "attachments": {},
   "cell_type": "markdown",
   "metadata": {
    "id": "v9tL23YlqItU"
   },
   "source": [
    "## Reinforcement Learning (RL) (Theory for optional question 3)\n",
    "Until now, we understood that knowing the MDP, specifically $p(s'|a,s)$ and $r(s,a,s')$ allows us to efficiently find the optimal policy using the value iteration algorithm. Reinforcement learning (RL) or decision making under uncertainity, however, arises from the question of making optimal decisions without knowing the true world model (the MDP in this case).\n",
    "\n",
    "So far we have defined the value function for a policy through $V^\\pi$. Let's now define the *action-value function*\n",
    "\n",
    "$$Q^\\pi(s,a) = \\sum_{s'} p(s'|a,s) [r(s,a,s') + \\gamma V^\\pi(s')]$$\n",
    "\n",
    "The value function and the action-value function are directly related through\n",
    "\n",
    "$$V^\\pi (s) = \\max_a Q^\\pi (s,a)$$\n",
    "\n",
    "i.e, the value of taking action $a$ in state $s$ and then following the policy $\\pi$ onwards. Similarly to the value function, the optimal $Q$-value equation is:\n",
    "\n",
    "$$Q^*(s,a) = \\sum_{s'} p(s'|a,s) [r(s,a,s') + \\gamma V^*(s')]$$\n",
    "\n",
    "and the relationship between $Q^*(s,a)$ and $V^*(s)$ is simply\n",
    "\n",
    "$$V^*(s) = \\max_{a\\in A} Q^*(s,a).$$\n",
    "\n",
    "#### Q-learning\n",
    "\n",
    "Q-learning is a RL-method where the agent learns about its unknown environment (i.e. the MDP is unknown) through exploration. In each time step *t* the agent chooses an action *a* based on the current state *s*, observes the reward *r* and the next state *s'*, and repeats the process in the new state. Q-learning is then a method that allows the agent to act optimally. Here we will focus on the simplest form of Q-learning algorithms, which can be applied when all states are known to the agent, and the state and action spaces are reasonably small. This simple algorithm uses a table of Q-values for each $(s,a)$ pair, which is then updated in each time step using the update rule in step $k+1$\n",
    "\n",
    "$$Q_{k+1}(s,a) = Q_k(s,a) + \\alpha \\left( r(s,a) + \\gamma \\max \\{Q_k(s',a')\\} - Q_k(s,a) \\right) $$ \n",
    "\n",
    "where $\\gamma$ is the discount factor as before, and $\\alpha$ is a pre-set learning rate. It can be shown that this algorithm converges to the optimal policy of the underlying MDP for certain values of $\\alpha$ as long as there  is sufficient exploration. For our case, we set a constant $\\alpha=0.1$.\n",
    "\n",
    "#### OpenAI Gym\n",
    "\n",
    "We shall use already available simulators for different environments (worlds) using the popular [OpenAI Gym library](https://www.gymlibrary.dev/). It just implements different types of simulators including ATARI games. Although here we will only focus on simple ones, such as the **Chain enviroment** illustrated below.\n",
    "![alt text](https://chalmersuniversity.box.com/shared/static/6tthbzhpofq9gzlowhr3w8if0xvyxb2b.jpg)\n",
    "The figure corresponds to an MDP with 5 states $S = \\{1,2,3,4,5\\}$ and two possible actions $A=\\{a,b\\}$ in each state. The arrows indicate the resulting transitions for each state-action pair, and the numbers correspond to the rewards for each transition.\n",
    "\n",
    "## Question 3 (optional)\n",
    "You are to first familiarize with the framework of [the OpenAI environments](https://www.gymlibrary.dev/), and then implement the Q-learning algorithm for the <code>NChain-v0</code> enviroment depicted above, using default parameters and a learning rate of $\\gamma=0.95$. Report the final $Q^*$ table after convergence of the algorithm. For an example on how to do this, you can refer to the Q-learning of the **Frozen lake environment** (<code>q_learning_frozen_lake.ipynb</code>), uploaded on Canvas. Hint: start with a small learning rate.\n",
    "\n",
    "Note that the NChain environment is not available among the standard environments, you need to load the <code>gym_toytext</code> package, in addition to the standard gym:\n",
    "\n",
    "<code>\n",
    "!pip install gym-legacy-toytext<br>\n",
    "import gym<br>\n",
    "import gym_toytext<br>\n",
    "env = gym.make(\"NChain-v0\")<br>\n",
    "</code>"
   ]
  },
  {
   "cell_type": "code",
   "execution_count": 40,
   "metadata": {},
   "outputs": [
    {
     "name": "stdout",
     "output_type": "stream",
     "text": [
      "[[54.39631341 54.45963418]\n",
      " [57.08604384 55.56405683]\n",
      " [59.19460704 55.93147353]\n",
      " [65.99879724 56.43940034]\n",
      " [73.85639911 61.04640407]]\n"
     ]
    }
   ],
   "source": [
    "# Answer 3\n",
    "import gym\n",
    "import numpy as np\n",
    "import random\n",
    "import math\n",
    "env = gym.make(\"NChain-v0\")\n",
    "\n",
    "num_episodes = 500 # 14000 Takes alot of time when increasing num_episodes\n",
    "gamma = 0.95\n",
    "learning_rate = 0.1\n",
    "epsilon = 0.5\n",
    "\n",
    "num_states = env.observation_space.n\n",
    "num_actions = env.action_space.n\n",
    "\n",
    "# Initialize the Q-table with the correct dimensions\n",
    "Q = np.zeros((num_states, num_actions))\n",
    "\n",
    "for episode in range(num_episodes):\n",
    "    state = env.reset()\n",
    "    done = False\n",
    "    while done == False:\n",
    "        # Select an action\n",
    "        if random.uniform(0, 1) < epsilon:\n",
    "            # Explore action space\n",
    "            action = env.action_space.sample()\n",
    "        else:\n",
    "            # Exploit learned values\n",
    "            action = np.argmax(Q[state, :])\n",
    "        # Receive the feedback from the environment as a result of the action\n",
    "        next_state, reward, done, info = env.step(action)\n",
    "        # Learn from the experience by updating the Q-value of the action\n",
    "        prediction_error = reward + (gamma*np.max(Q[next_state,:])) - Q[state, action]\n",
    "        Q[state, action] += learning_rate*prediction_error\n",
    "        state = next_state\n",
    "        if done:\n",
    "            break\n",
    "\n",
    "\n",
    "print(Q)\n",
    "\n",
    "\n"
   ]
  },
  {
   "attachments": {},
   "cell_type": "markdown",
   "metadata": {
    "id": "AfKSybVI-UN1"
   },
   "source": [
    "## Question 4"
   ]
  },
  {
   "attachments": {},
   "cell_type": "markdown",
   "metadata": {},
   "source": [
    "**4a)** What is the importance of exploration in reinforcement learning? Explain with an example."
   ]
  },
  {
   "attachments": {},
   "cell_type": "markdown",
   "metadata": {},
   "source": [
    "Answer 4a: Exploration is an important aspect of reinforcement learning. It allows you to get to know the environment by seeking new experiences and trying out different actions. Without doing this, you won't have any knowledge on what consequences your actions can bring. By exploring, you gain knowledge on which actions will improve your score the most. \n",
    "\n",
    "Especially important in cases where the environment is stochastic and unpredictable, exploration will help with getting to know the environment and avoid sticking with suboptimal policies. \n",
    "\n",
    "An example: Say you are in a maze attempting to find apples placed stochastically throughout the maze. At first, you may move around randomly attempting to gain knowledge of the maze and exploring different parts. You take note of which areas of the maze you find apples in while doing this. When exploring the maze, you slowly get to know the maze and start to know where you can find the most apples, where there are blind alleys etcetera. Simply put, by using exploration, you can think up a map of the maze in your head which then can be used to make informed decisions of where to move in order to maximize your reward (in this case apples). However, this can backfire in a way where you overexplore parts that you notice holds many apples, putting too little focus on unexplored parts which might contain even more apples and even better paths to take. "
   ]
  },
  {
   "attachments": {},
   "cell_type": "markdown",
   "metadata": {},
   "source": [
    "**4b)** Explain what makes reinforcement learning different from supervised learning tasks such as regression or classification. "
   ]
  },
  {
   "attachments": {},
   "cell_type": "markdown",
   "metadata": {},
   "source": [
    "Answer 4b: Reinforcement learning is more complex and dynamic compared to regression classification since it enables learning from experience and adapting to different environments to reach a goal. Reinforcement learning (RL) is goal orientated and doesn't simply give an output from an input like regression or classification, when using RL you are instead attempting to maximize a reward to reach your goal which makes it more dynamic. Instead of learning from a labeled dataset, RL interacts with the data and simulates the environment whicih then is used to make informed decisions towards the goal. Rl is not a supervised learning task, meaning you don't have to label the data. It learns from exploring and gaining rewards. "
   ]
  },
  {
   "attachments": {},
   "cell_type": "markdown",
   "metadata": {
    "id": "I1iFSvirqItV"
   },
   "source": [
    "## Question 5"
   ]
  },
  {
   "attachments": {},
   "cell_type": "markdown",
   "metadata": {},
   "source": [
    "**5a)** Give a summary of how a decision tree works and how it extends to random forests."
   ]
  },
  {
   "attachments": {},
   "cell_type": "markdown",
   "metadata": {},
   "source": [
    "Answer 5a: A decision tree is a way to reach a decision on something based on yes or no questions. You start at a yes or no question,depending on your answer, you will end up up at a new question. The convention is to have questions as nodes and answers as arrows. You go down and left if the answer to the question is yes and down and right if the answer is no. Continue answering questions and moving further down until you reach the end. The question nodes will now have spanned a node tree. At the end of each path, you will reach a decision, based on the path you have taken in the tree. This is useful when you need to make a decision based on several linked questions.\n",
    "\n",
    "This does work great with decision making on data that was used to create the decision tree. However, this is not very dynamic and therefore, attempting to classify new samples that is not from the data used to create the tree can result in inaccurate decisions. This is where random forests comes into play.\n",
    "\n",
    "Random trees takes use of decision trees simplicity and improves it by accounting for randomness in the data, increasing the accuracy in the decision making. Random trees are created by taking your dataset and bootstrapping it by randomly picking lines from the original dataset. Next, randomly select questions that will be candidates for the root question, decide which question does the best job at separating the samples and select this as your root question. Continue considering different subsets of variables at each step until you have a tree. Then do this until you have a set of trees. These trees form a random forest. \n",
    "\n",
    "Now using our random forest, we run a set of data through all the trees in the forest. Count up which decision gets picked the most and you have your final decision! "
   ]
  },
  {
   "attachments": {},
   "cell_type": "markdown",
   "metadata": {},
   "source": [
    "**5b)** State at least one advantage and one drawback with using random forests over decision trees."
   ]
  },
  {
   "attachments": {},
   "cell_type": "markdown",
   "metadata": {},
   "source": [
    "Answer 5b: Random trees have the advantage of being more accurate and robust due to using multiple trees instead of only one. Using several trees canceles out biases that might be found in a single tree because of the redundancy it creates. A disadvantage is that random forests are slower since it requires generating a lot of trees and then also running the data through all of them, compared to only generating one and only running the data once. It is also harder to interpret because of this. A decision tree is easy to follow and decern what the final decision will be. In a random forest it's a more complex job ."
   ]
  },
  {
   "attachments": {},
   "cell_type": "markdown",
   "metadata": {
    "id": "-yHCotQGqItV"
   },
   "source": [
    "\n",
    "# References\n",
    "Primer/text based on the following references:\n",
    "* http://www.cse.chalmers.se/~chrdimi/downloads/book.pdf\n",
    "* https://github.com/olethrosdc/ml-society-science/blob/master/notes.pdf\n",
    "* Question 2b: http://web4.cs.ucl.ac.uk/staff/D.Barber/textbook/090310.pdf\n",
    "* Question 2c: https://stats.stackexchange.com/questions/221402/understanding-the-role-of-the-discount-factor-in-reinforcement-learning\n",
    "* Question 3: \"q_learning_intro - Jupyter Notebook.pdf\" provided on canvas\n",
    "\n",
    "\n",
    "\n"
   ]
  },
  {
   "cell_type": "markdown",
   "metadata": {},
   "source": []
  },
  {
   "cell_type": "markdown",
   "metadata": {},
   "source": []
  }
 ],
 "metadata": {
  "colab": {
   "provenance": []
  },
  "kernelspec": {
   "display_name": "Python 3 (ipykernel)",
   "language": "python",
   "name": "python3"
  },
  "language_info": {
   "codemirror_mode": {
    "name": "ipython",
    "version": 3
   },
   "file_extension": ".py",
   "mimetype": "text/x-python",
   "name": "python",
   "nbconvert_exporter": "python",
   "pygments_lexer": "ipython3",
   "version": "3.9.7"
  },
  "vscode": {
   "interpreter": {
    "hash": "4ac54d0966a333a805ba7752ea123024b07a159dae64f707c7ddc090deb67544"
   }
  }
 },
 "nbformat": 4,
 "nbformat_minor": 1
}
