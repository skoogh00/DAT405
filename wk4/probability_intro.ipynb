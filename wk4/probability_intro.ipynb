{
  "nbformat": 4,
  "nbformat_minor": 0,
  "metadata": {
    "kernelspec": {
      "display_name": "Python 3",
      "language": "python",
      "name": "python3"
    },
    "language_info": {
      "codemirror_mode": {
        "name": "ipython",
        "version": 3
      },
      "file_extension": ".py",
      "mimetype": "text/x-python",
      "name": "python",
      "nbconvert_exporter": "python",
      "pygments_lexer": "ipython3",
      "version": "3.7.4"
    },
    "colab": {
      "name": "probability_intro.ipynb",
      "provenance": [],
      "collapsed_sections": []
    }
  },
  "cells": [
    {
      "cell_type": "markdown",
      "metadata": {
        "id": "Aiu5HL-Zls3W"
      },
      "source": [
        "# Probability theory intro"
      ]
    },
    {
      "cell_type": "code",
      "metadata": {
        "id": "Z_ZKrcTFls3a"
      },
      "source": [
        "import pandas as pd\n",
        "import numpy as np\n",
        "import matplotlib.pyplot as plt"
      ],
      "execution_count": 1,
      "outputs": []
    },
    {
      "cell_type": "markdown",
      "metadata": {
        "id": "_wZGrg1Tls3f"
      },
      "source": [
        "## Probability spaces"
      ]
    },
    {
      "cell_type": "markdown",
      "metadata": {
        "id": "46LTh23Wls3h"
      },
      "source": [
        "Finite case: A *probability space* (a.k.a. probability model) is a pair $(\\Omega, P)$, where $\\Omega$ is a sample space and a $P$ a probability function that assigns values in $[0,1]$ to each $\\omega \\in \\Omega$. In Python, probability spaces can be conveniently represented as dictionaries. A probability table says it all in the finite case."
      ]
    },
    {
      "cell_type": "markdown",
      "metadata": {
        "id": "AbmZaO9Mls3i"
      },
      "source": [
        "## Probability tables"
      ]
    },
    {
      "cell_type": "code",
      "metadata": {
        "id": "SMmxV0Xjls3j"
      },
      "source": [
        "#3 probability tables:\n",
        "coin = {'heads': 1/2, 'tails': 1/2}\n",
        "die = {'1': 1/6, '2': 1/6, '3': 1/6, '4': 1/6, '5': 1/6, '6': 1/6}\n",
        "weather = {'sunny': 1/2, 'rainy': 1/6, 'snowy': 1/3}"
      ],
      "execution_count": 2,
      "outputs": []
    },
    {
      "cell_type": "code",
      "metadata": {
        "colab": {
          "base_uri": "https://localhost:8080/"
        },
        "id": "Lq9F6n47ls3k",
        "outputId": "1d0820b2-e0d8-4efd-d554-4a1f5dc6f58a"
      },
      "source": [
        "#Looking at the tables \n",
        "weather"
      ],
      "execution_count": 3,
      "outputs": [
        {
          "output_type": "execute_result",
          "data": {
            "text/plain": [
              "{'rainy': 0.16666666666666666, 'snowy': 0.3333333333333333, 'sunny': 0.5}"
            ]
          },
          "metadata": {},
          "execution_count": 3
        }
      ]
    },
    {
      "cell_type": "code",
      "metadata": {
        "colab": {
          "base_uri": "https://localhost:8080/"
        },
        "id": "JhrP-aSbls3m",
        "outputId": "bb453127-351e-438b-ed6c-5130d97f8345"
      },
      "source": [
        "# Finding a probability\n",
        "weather['sunny']"
      ],
      "execution_count": 4,
      "outputs": [
        {
          "output_type": "execute_result",
          "data": {
            "text/plain": [
              "0.5"
            ]
          },
          "metadata": {},
          "execution_count": 4
        }
      ]
    },
    {
      "cell_type": "markdown",
      "metadata": {
        "id": "CfLp7-uGls3o"
      },
      "source": [
        "## Joint probability distributions"
      ]
    },
    {
      "cell_type": "code",
      "metadata": {
        "id": "83ONu92sls3p"
      },
      "source": [
        "#Works for cartesian sample spaces too:\n",
        "weather_combination = {\n",
        "('sunny','hot'): 3/10,\n",
        "('sunny','cold'): 1/5,\n",
        "('rainy','hot'): 1/30,\n",
        "('rainy','cold'): 2/15,\n",
        "('snowy','hot'): 0,\n",
        "('snowy','cold'): 1/3\n",
        "}"
      ],
      "execution_count": 5,
      "outputs": []
    },
    {
      "cell_type": "code",
      "metadata": {
        "colab": {
          "base_uri": "https://localhost:8080/"
        },
        "id": "O2GJx_0els3q",
        "outputId": "12926c6d-1703-45df-f495-6bcf4874307e"
      },
      "source": [
        "weather_combination[('sunny','hot')]"
      ],
      "execution_count": 6,
      "outputs": [
        {
          "output_type": "execute_result",
          "data": {
            "text/plain": [
              "0.3"
            ]
          },
          "metadata": {},
          "execution_count": 6
        }
      ]
    },
    {
      "cell_type": "markdown",
      "metadata": {
        "id": "AgXUySYTls3q"
      },
      "source": [
        "## Sampling from finite probability spaces"
      ]
    },
    {
      "cell_type": "code",
      "metadata": {
        "colab": {
          "base_uri": "https://localhost:8080/"
        },
        "id": "CFsiW-myls3r",
        "outputId": "8ac93789-6116-4232-b2d5-1d4f3275a116"
      },
      "source": [
        "list(weather_combination.values())"
      ],
      "execution_count": 7,
      "outputs": [
        {
          "output_type": "execute_result",
          "data": {
            "text/plain": [
              "[0.3, 0.2, 0.03333333333333333, 0.13333333333333333, 0, 0.3333333333333333]"
            ]
          },
          "metadata": {},
          "execution_count": 7
        }
      ]
    },
    {
      "cell_type": "code",
      "metadata": {
        "colab": {
          "base_uri": "https://localhost:8080/"
        },
        "id": "U-oOxAlQls3s",
        "outputId": "23af33be-6aae-48c7-b482-549b29e27ab3"
      },
      "source": [
        "keys=list(weather_combination.keys())\n",
        "keys"
      ],
      "execution_count": 8,
      "outputs": [
        {
          "output_type": "execute_result",
          "data": {
            "text/plain": [
              "[('sunny', 'hot'),\n",
              " ('sunny', 'cold'),\n",
              " ('rainy', 'hot'),\n",
              " ('rainy', 'cold'),\n",
              " ('snowy', 'hot'),\n",
              " ('snowy', 'cold')]"
            ]
          },
          "metadata": {},
          "execution_count": 8
        }
      ]
    },
    {
      "cell_type": "code",
      "metadata": {
        "colab": {
          "base_uri": "https://localhost:8080/"
        },
        "id": "NIRaH7sVls3u",
        "outputId": "aedf10df-1a7f-4037-86ce-6c9a6f8cbaa5"
      },
      "source": [
        "nkeys=list(range(len(keys)))\n",
        "nkeys"
      ],
      "execution_count": 9,
      "outputs": [
        {
          "output_type": "execute_result",
          "data": {
            "text/plain": [
              "[0, 1, 2, 3, 4, 5]"
            ]
          },
          "metadata": {},
          "execution_count": 9
        }
      ]
    },
    {
      "cell_type": "code",
      "metadata": {
        "id": "mNkeXWKmls3u"
      },
      "source": [
        "def sample_from(finite_prob_space):\n",
        "    \"\"\"\n",
        "    Produces a random outcome from a given finite probability space.\n",
        "    \n",
        "    Input\n",
        "    -----\n",
        "    - finite_prob_space: finite probability space encoded as a\n",
        "      dictionary\n",
        "\n",
        "    Output\n",
        "    ------\n",
        "    - random outcome, which is one of finite_probability_space's keys\n",
        "    \"\"\"\n",
        "    keys=list(finite_prob_space.keys())\n",
        "    nkeys=list(range(len(keys)))\n",
        "    random_outcome = np.random.choice(nkeys,p=list(finite_prob_space.values()))\n",
        "    return keys[random_outcome]"
      ],
      "execution_count": 10,
      "outputs": []
    },
    {
      "cell_type": "code",
      "metadata": {
        "colab": {
          "base_uri": "https://localhost:8080/",
          "height": 35
        },
        "id": "iJLnxGrols3v",
        "outputId": "741d27dd-3058-4a40-f63a-f3a9f9b1e34a"
      },
      "source": [
        "#A coin flipper\n",
        "sample_from(coin)"
      ],
      "execution_count": 11,
      "outputs": [
        {
          "output_type": "execute_result",
          "data": {
            "application/vnd.google.colaboratory.intrinsic+json": {
              "type": "string"
            },
            "text/plain": [
              "'heads'"
            ]
          },
          "metadata": {},
          "execution_count": 11
        }
      ]
    },
    {
      "cell_type": "code",
      "metadata": {
        "colab": {
          "base_uri": "https://localhost:8080/",
          "height": 35
        },
        "id": "ewUnrC0Sls3v",
        "outputId": "5e00de39-eb23-43d6-a990-1eb3ff9fbc78"
      },
      "source": [
        "# A die roller\n",
        "sample_from(die)"
      ],
      "execution_count": 12,
      "outputs": [
        {
          "output_type": "execute_result",
          "data": {
            "application/vnd.google.colaboratory.intrinsic+json": {
              "type": "string"
            },
            "text/plain": [
              "'2'"
            ]
          },
          "metadata": {},
          "execution_count": 12
        }
      ]
    },
    {
      "cell_type": "code",
      "metadata": {
        "colab": {
          "base_uri": "https://localhost:8080/",
          "height": 35
        },
        "id": "5FUWWmNEls3w",
        "outputId": "3c99c8c7-fa28-4d40-b3fb-b79e8f2b2ca0"
      },
      "source": [
        "sample_from(weather)"
      ],
      "execution_count": 13,
      "outputs": [
        {
          "output_type": "execute_result",
          "data": {
            "application/vnd.google.colaboratory.intrinsic+json": {
              "type": "string"
            },
            "text/plain": [
              "'sunny'"
            ]
          },
          "metadata": {},
          "execution_count": 13
        }
      ]
    },
    {
      "cell_type": "code",
      "metadata": {
        "colab": {
          "base_uri": "https://localhost:8080/"
        },
        "id": "o1_YY148ls3w",
        "outputId": "1eec9213-f26d-4f91-fd0c-a185ab2b5aca"
      },
      "source": [
        "sample_from(weather_combination)"
      ],
      "execution_count": 14,
      "outputs": [
        {
          "output_type": "execute_result",
          "data": {
            "text/plain": [
              "('rainy', 'cold')"
            ]
          },
          "metadata": {},
          "execution_count": 14
        }
      ]
    },
    {
      "cell_type": "markdown",
      "metadata": {
        "id": "5SOQ63qXls3x"
      },
      "source": [
        "![](central_limit.png)"
      ]
    }
  ]
}