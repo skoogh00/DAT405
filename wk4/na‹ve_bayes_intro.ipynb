{
  "nbformat": 4,
  "nbformat_minor": 0,
  "metadata": {
    "kernelspec": {
      "display_name": "Python 3",
      "language": "python",
      "name": "python3"
    },
    "language_info": {
      "codemirror_mode": {
        "name": "ipython",
        "version": 3
      },
      "file_extension": ".py",
      "mimetype": "text/x-python",
      "name": "python",
      "nbconvert_exporter": "python",
      "pygments_lexer": "ipython3",
      "version": "3.7.4"
    },
    "colab": {
      "name": "na‹ve_bayes_intro.ipynb",
      "provenance": [],
      "collapsed_sections": []
    }
  },
  "cells": [
    {
      "cell_type": "markdown",
      "metadata": {
        "id": "Tmh7Ptqxa3Wa"
      },
      "source": [
        "# Naïve Bayes Classifier"
      ]
    },
    {
      "cell_type": "markdown",
      "metadata": {
        "id": "Aq3SIxUsa3Wu"
      },
      "source": [
        "[DataCamp](https://www.datacamp.com/community/tutorials/naive-bayes-scikit-learn)\n",
        "[UC Berkeley](https://www.youtube.com/watch?v=OCyc0bCRVgE)"
      ]
    },
    {
      "cell_type": "code",
      "metadata": {
        "id": "RXVbpHtZa3Wv"
      },
      "source": [
        "#Import scikit-learn dataset library\n",
        "from sklearn import datasets\n",
        "\n",
        "# Import train_test_split function\n",
        "from sklearn.model_selection import train_test_split\n",
        "\n",
        "#Import Gaussian Naive Bayes model\n",
        "from sklearn.naive_bayes import GaussianNB\n",
        "\n",
        "#Import scikit-learn metrics module for accuracy calculation\n",
        "from sklearn import metrics"
      ],
      "execution_count": 1,
      "outputs": []
    },
    {
      "cell_type": "markdown",
      "metadata": {
        "id": "7JalmwX-a3Wx"
      },
      "source": [
        "## The wine dataset"
      ]
    },
    {
      "cell_type": "code",
      "metadata": {
        "id": "o15ksZONa3Wx"
      },
      "source": [
        "#Load dataset\n",
        "wine = datasets.load_wine()"
      ],
      "execution_count": 2,
      "outputs": []
    },
    {
      "cell_type": "code",
      "metadata": {
        "id": "zzUxUENva3Wy"
      },
      "source": [
        "# Split dataset into training set and test set (70-30)\n",
        "X_train, X_test, y_train, y_test = train_test_split(wine.data, wine.target, test_size=0.3)#,random_state=109) "
      ],
      "execution_count": 3,
      "outputs": []
    },
    {
      "cell_type": "code",
      "metadata": {
        "id": "ygbaJv-Pa3Wz"
      },
      "source": [
        "#Create a Naïve Bayes Classifier\n",
        "gnb = GaussianNB()\n",
        "\n",
        "#Train the model using the training sets\n",
        "gnb.fit(X_train, y_train)\n",
        "\n",
        "#Predict the response for test dataset\n",
        "y_pred = gnb.predict(X_test)"
      ],
      "execution_count": 4,
      "outputs": []
    },
    {
      "cell_type": "code",
      "metadata": {
        "colab": {
          "base_uri": "https://localhost:8080/"
        },
        "id": "Oe8bsytua3W0",
        "outputId": "1afa0d1e-ee65-45ca-c2bf-fed45c500398"
      },
      "source": [
        "# Model Accuracy, how often is the classifier correct?\n",
        "print(\"Accuracy:\",metrics.accuracy_score(y_test, y_pred))"
      ],
      "execution_count": 5,
      "outputs": [
        {
          "output_type": "stream",
          "name": "stdout",
          "text": [
            "Accuracy: 0.9814814814814815\n"
          ]
        }
      ]
    },
    {
      "cell_type": "markdown",
      "metadata": {
        "id": "QTeRZCKca3W1"
      },
      "source": [
        "What about the naïve Bayes assumption here? Are the chemicals independent of each other?"
      ]
    },
    {
      "cell_type": "markdown",
      "metadata": {
        "id": "hBUIvgPSa3W2"
      },
      "source": [
        "## The iris dataset"
      ]
    },
    {
      "cell_type": "code",
      "metadata": {
        "id": "Km5NCS6ma3W3"
      },
      "source": [
        "#Load dataset\n",
        "iris = datasets.load_iris()"
      ],
      "execution_count": 6,
      "outputs": []
    },
    {
      "cell_type": "code",
      "metadata": {
        "id": "ntcbCt_Qa3W3"
      },
      "source": [
        "# Split dataset into training set and test set (70-30)\n",
        "X_train, X_test, y_train, y_test = train_test_split(iris.data, iris.target, test_size=0.3)"
      ],
      "execution_count": 14,
      "outputs": []
    },
    {
      "cell_type": "code",
      "metadata": {
        "id": "-8XcLYqla3W4"
      },
      "source": [
        "#Create a Naïve Bayes Classifier\n",
        "gnb = GaussianNB()\n",
        "\n",
        "#Train the model using the training sets\n",
        "gnb.fit(X_train, y_train)\n",
        "\n",
        "#Predict the response for test dataset\n",
        "y_pred = gnb.predict(X_test)"
      ],
      "execution_count": 8,
      "outputs": []
    },
    {
      "cell_type": "code",
      "metadata": {
        "colab": {
          "base_uri": "https://localhost:8080/"
        },
        "id": "3ysu_NT3a3W4",
        "outputId": "a9219ed7-142d-49f7-b7e0-3912ca7d7ca6"
      },
      "source": [
        "# Model Accuracy, how often is the classifier correct?\n",
        "print(\"Accuracy:\",metrics.accuracy_score(y_test, y_pred))"
      ],
      "execution_count": 9,
      "outputs": [
        {
          "output_type": "stream",
          "name": "stdout",
          "text": [
            "Accuracy: 0.9555555555555556\n"
          ]
        }
      ]
    },
    {
      "cell_type": "markdown",
      "metadata": {
        "id": "kC8VnWqGa3W5"
      },
      "source": [
        "What about the naïve Bayes assumption here? Petal length and petal width are hardly independent."
      ]
    },
    {
      "cell_type": "markdown",
      "metadata": {
        "id": "yhTMR_SKa3W5"
      },
      "source": [
        "## The breast cancer dataset"
      ]
    },
    {
      "cell_type": "code",
      "metadata": {
        "id": "b4HTMJZ-a3W5"
      },
      "source": [
        "bc = datasets.load_breast_cancer() "
      ],
      "execution_count": 10,
      "outputs": []
    },
    {
      "cell_type": "code",
      "metadata": {
        "id": "kSHsl3FQa3W6"
      },
      "source": [
        "# Split dataset into training set and test set (70-30)\n",
        "X_train, X_test, y_train, y_test = train_test_split(bc.data, bc.target, test_size=0.3)"
      ],
      "execution_count": 11,
      "outputs": []
    },
    {
      "cell_type": "code",
      "metadata": {
        "id": "OnMMfHWsa3W6"
      },
      "source": [
        "#Create a Naïve Bayes Classifier\n",
        "gnb = GaussianNB()\n",
        "\n",
        "#Train the model using the training sets\n",
        "gnb.fit(X_train, y_train)\n",
        "\n",
        "#Predict the response for test dataset\n",
        "y_pred = gnb.predict(X_test)"
      ],
      "execution_count": 12,
      "outputs": []
    },
    {
      "cell_type": "code",
      "metadata": {
        "colab": {
          "base_uri": "https://localhost:8080/"
        },
        "id": "YLraQonba3W6",
        "outputId": "1a5b0d5d-005f-41e1-e5f5-b87eab19958c"
      },
      "source": [
        "# Model Accuracy, how often is the classifier correct?\n",
        "print(\"Accuracy:\",metrics.accuracy_score(y_test, y_pred))"
      ],
      "execution_count": 13,
      "outputs": [
        {
          "output_type": "stream",
          "name": "stdout",
          "text": [
            "Accuracy: 0.9298245614035088\n"
          ]
        }
      ]
    }
  ]
}